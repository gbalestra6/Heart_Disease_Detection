{
 "cells": [
  {
   "cell_type": "code",
   "execution_count": 1,
   "metadata": {},
   "outputs": [],
   "source": [
    "import sagemaker\n",
    "import os\n",
    "import numpy as np\n",
    "import pandas as pd\n",
    "from sagemaker import get_execution_role\n",
    "from sklearn.model_selection import train_test_split\n",
    "from sklearn.metrics import confusion_matrix\n",
    "from sklearn.metrics import classification_report\n",
    "from sagemaker.tuner import IntegerParameter,ContinuousParameter,HyperparameterTuner\n",
    "from pandas import read_csv\n",
    "from sklearn.utils import shuffle"
   ]
  },
  {
   "cell_type": "code",
   "execution_count": 2,
   "metadata": {},
   "outputs": [],
   "source": [
    "session = sagemaker.Session()\n",
    "role = get_execution_role()\n",
    "bucket_name = session.default_bucket()"
   ]
  },
  {
   "cell_type": "code",
   "execution_count": 3,
   "metadata": {},
   "outputs": [],
   "source": [
    "data_dir = './data/heart_data'\n",
    "if not os.path.exists(data_dir):\n",
    "    os.makedirs(data_dir)"
   ]
  },
  {
   "cell_type": "code",
   "execution_count": 4,
   "metadata": {},
   "outputs": [],
   "source": [
    "all_data = pd.read_csv(os.path.join(\"./data\",'data.csv'))\n",
    "#Not enough data points for \"2\",\"3\",\"4\" individually - I merge them with the same label\n",
    "all_data = all_data.replace({'num': {2:1,3:1,4:1}})\n",
    "all_data = shuffle(all_data)\n",
    "labels = all_data[\"num\"]\n",
    "top_features = ['age', 'ekgmo', 'cmo', 'thalrest', 'cday', 'trestbpd', 'tpeakbps', 'tpeakbpd', 'thaldur', 'thalach', 'trestbps', 'ekgday', 'chol', 'oldpeak']\n",
    "features = all_data.iloc[:,:-1]\n",
    "features = features.loc[:,top_features]\n"
   ]
  },
  {
   "cell_type": "code",
   "execution_count": 5,
   "metadata": {},
   "outputs": [],
   "source": [
    "features_train, features_test, labels_train, labels_test = train_test_split(features, labels, test_size=0.20)\n",
    "features_train, features_val, labels_train, labels_val = train_test_split(features_train, labels_train, test_size=0.25)\n"
   ]
  },
  {
   "cell_type": "code",
   "execution_count": 6,
   "metadata": {},
   "outputs": [],
   "source": [
    "pd.DataFrame(features_test).to_csv(os.path.join(data_dir, 'test.csv'), header=False, index=False)\n",
    "pd.concat([labels_train, features_train], axis=1).to_csv(os.path.join(data_dir, 'train.csv'), header=False, index=False)\n",
    "pd.concat([labels_val, features_val], axis=1).to_csv(os.path.join(data_dir, 'validation.csv'), header=False, index=False)"
   ]
  },
  {
   "cell_type": "code",
   "execution_count": 7,
   "metadata": {},
   "outputs": [],
   "source": [
    "prefix = 'heart-data'\n",
    "test_location = session.upload_data(os.path.join(data_dir, 'test.csv'), key_prefix=prefix)\n",
    "train_location = session.upload_data(os.path.join(data_dir, 'train.csv'), key_prefix=prefix)\n",
    "val_location = session.upload_data(os.path.join(data_dir, 'validation.csv'), key_prefix=prefix)"
   ]
  },
  {
   "cell_type": "code",
   "execution_count": 8,
   "metadata": {},
   "outputs": [],
   "source": [
    "from sagemaker.amazon.amazon_estimator import get_image_uri\n",
    "\n",
    "#Retreive the container which contains the train and inference code for xgboost algorithm\n",
    "xgb_container = get_image_uri(session.boto_region_name, 'xgboost','0.90-1') "
   ]
  },
  {
   "cell_type": "code",
   "execution_count": 9,
   "metadata": {},
   "outputs": [],
   "source": [
    "xgb = sagemaker.estimator.Estimator(xgb_container,\n",
    "                                    role,    \n",
    "                                    train_instance_count=1,\n",
    "                                    train_instance_type='ml.m4.xlarge',\n",
    "                                    output_path='s3://{}/{}/output'.format(bucket_name, prefix),\n",
    "                                    sagemaker_session=session)\n",
    "\n",
    "xgb.set_hyperparameters(max_depth=5,\n",
    "                        eta=0.2,\n",
    "                        gamma=4,\n",
    "                        min_child_weight=6,\n",
    "                        subsample=0.8,\n",
    "                        silent=0,\n",
    "                        scale_pos_weight=1.0,\n",
    "                        objective='binary:logistic',\n",
    "                        early_stopping_rounds=10,\n",
    "                        num_round=500)"
   ]
  },
  {
   "cell_type": "code",
   "execution_count": 10,
   "metadata": {},
   "outputs": [],
   "source": [
    "xgb_hyperparameter_tuner = HyperparameterTuner(estimator = xgb, \n",
    "                                               objective_metric_name = 'validation:rmse', \n",
    "                                               objective_type = 'Minimize', \n",
    "                                               max_jobs = 6, \n",
    "                                               max_parallel_jobs = 3, \n",
    "                                               hyperparameter_ranges = {\n",
    "                                                    'max_depth': IntegerParameter(3, 12),\n",
    "                                                    'eta'      : ContinuousParameter(0.05, 0.5),\n",
    "                                                    'min_child_weight': IntegerParameter(2, 8),\n",
    "                                                    'subsample': ContinuousParameter(0.5, 0.9),\n",
    "                                                    'gamma': ContinuousParameter(0, 10)\n",
    "                                               })"
   ]
  },
  {
   "cell_type": "code",
   "execution_count": 11,
   "metadata": {},
   "outputs": [],
   "source": [
    "s3_input_train = sagemaker.s3_input(s3_data=train_location, content_type='csv')\n",
    "s3_input_test = sagemaker.s3_input(s3_data=test_location, content_type='csv')\n",
    "s3_input_val = sagemaker.s3_input(s3_data=val_location, content_type='csv')"
   ]
  },
  {
   "cell_type": "code",
   "execution_count": 12,
   "metadata": {},
   "outputs": [],
   "source": [
    "xgb_hyperparameter_tuner.fit({'train':s3_input_train,'validation':s3_input_val})"
   ]
  },
  {
   "cell_type": "code",
   "execution_count": 13,
   "metadata": {},
   "outputs": [
    {
     "name": "stdout",
     "output_type": "stream",
     "text": [
      ".......................................................................................................!\n"
     ]
    }
   ],
   "source": [
    "xgb_hyperparameter_tuner.wait()"
   ]
  },
  {
   "cell_type": "code",
   "execution_count": 14,
   "metadata": {
    "scrolled": true
   },
   "outputs": [
    {
     "name": "stdout",
     "output_type": "stream",
     "text": [
      "2020-06-25 04:07:06 Starting - Preparing the instances for training\n",
      "2020-06-25 04:07:06 Downloading - Downloading input data\n",
      "2020-06-25 04:07:06 Training - Training image download completed. Training in progress.\n",
      "2020-06-25 04:07:06 Uploading - Uploading generated training model\n",
      "2020-06-25 04:07:06 Completed - Training job completed\u001b[34mINFO:sagemaker-containers:Imported framework sagemaker_xgboost_container.training\u001b[0m\n",
      "\u001b[34mINFO:sagemaker-containers:Failed to parse hyperparameter _tuning_objective_metric value validation:rmse to Json.\u001b[0m\n",
      "\u001b[34mReturning the value itself\u001b[0m\n",
      "\u001b[34mINFO:sagemaker-containers:Failed to parse hyperparameter objective value binary:logistic to Json.\u001b[0m\n",
      "\u001b[34mReturning the value itself\u001b[0m\n",
      "\u001b[34mINFO:sagemaker-containers:No GPUs detected (normal if no gpus installed)\u001b[0m\n",
      "\u001b[34mINFO:sagemaker_xgboost_container.training:Running XGBoost Sagemaker in algorithm mode\u001b[0m\n",
      "\u001b[34mINFO:root:Determined delimiter of CSV input is ','\u001b[0m\n",
      "\u001b[34mINFO:root:Determined delimiter of CSV input is ','\u001b[0m\n",
      "\u001b[34mINFO:root:Determined delimiter of CSV input is ','\u001b[0m\n",
      "\u001b[34m[04:06:56] 411x14 matrix with 5754 entries loaded from /opt/ml/input/data/train?format=csv&label_column=0&delimiter=,\u001b[0m\n",
      "\u001b[34mINFO:root:Determined delimiter of CSV input is ','\u001b[0m\n",
      "\u001b[34m[04:06:56] 138x14 matrix with 1932 entries loaded from /opt/ml/input/data/validation?format=csv&label_column=0&delimiter=,\u001b[0m\n",
      "\u001b[34mINFO:root:Single node training.\u001b[0m\n",
      "\u001b[34mINFO:root:Setting up HPO optimized metric to be : rmse\u001b[0m\n",
      "\u001b[34mINFO:root:Train matrix has 411 rows\u001b[0m\n",
      "\u001b[34mINFO:root:Validation matrix has 138 rows\u001b[0m\n",
      "\u001b[34m[0]#011train-rmse:0.458289#011validation-rmse:0.448056\u001b[0m\n",
      "\u001b[34m[1]#011train-rmse:0.435355#011validation-rmse:0.427443\u001b[0m\n",
      "\u001b[34m[2]#011train-rmse:0.424823#011validation-rmse:0.416769\u001b[0m\n",
      "\u001b[34m[3]#011train-rmse:0.414451#011validation-rmse:0.401411\u001b[0m\n",
      "\u001b[34m[4]#011train-rmse:0.406926#011validation-rmse:0.392368\u001b[0m\n",
      "\u001b[34m[5]#011train-rmse:0.404499#011validation-rmse:0.391653\u001b[0m\n",
      "\u001b[34m[6]#011train-rmse:0.404497#011validation-rmse:0.391686\u001b[0m\n",
      "\u001b[34m[7]#011train-rmse:0.398326#011validation-rmse:0.386236\u001b[0m\n",
      "\u001b[34m[8]#011train-rmse:0.398368#011validation-rmse:0.386494\u001b[0m\n",
      "\u001b[34m[9]#011train-rmse:0.398445#011validation-rmse:0.386685\u001b[0m\n",
      "\u001b[34m[10]#011train-rmse:0.393265#011validation-rmse:0.38638\u001b[0m\n",
      "\u001b[34m[11]#011train-rmse:0.393289#011validation-rmse:0.386492\u001b[0m\n",
      "\u001b[34m[12]#011train-rmse:0.39329#011validation-rmse:0.386495\u001b[0m\n",
      "\u001b[34m[13]#011train-rmse:0.39336#011validation-rmse:0.38667\u001b[0m\n",
      "\u001b[34m[14]#011train-rmse:0.393276#011validation-rmse:0.386287\u001b[0m\n",
      "\u001b[34m[15]#011train-rmse:0.385694#011validation-rmse:0.381918\u001b[0m\n",
      "\u001b[34m[16]#011train-rmse:0.385682#011validation-rmse:0.382034\u001b[0m\n",
      "\u001b[34m[17]#011train-rmse:0.385684#011validation-rmse:0.382078\u001b[0m\n",
      "\u001b[34m[18]#011train-rmse:0.385781#011validation-rmse:0.382432\u001b[0m\n",
      "\u001b[34m[19]#011train-rmse:0.385806#011validation-rmse:0.382493\u001b[0m\n",
      "\u001b[34m[20]#011train-rmse:0.385735#011validation-rmse:0.382302\u001b[0m\n",
      "\u001b[34m[21]#011train-rmse:0.385689#011validation-rmse:0.382117\u001b[0m\n",
      "\u001b[34m[22]#011train-rmse:0.385689#011validation-rmse:0.382113\u001b[0m\n",
      "\u001b[34m[23]#011train-rmse:0.385682#011validation-rmse:0.381993\u001b[0m\n",
      "\u001b[34m[24]#011train-rmse:0.38572#011validation-rmse:0.382254\u001b[0m\n",
      "\u001b[34m[25]#011train-rmse:0.381091#011validation-rmse:0.385124\u001b[0m\n",
      "Training seconds: 62\n",
      "Billable seconds: 62\n"
     ]
    }
   ],
   "source": [
    "xgb_attached = sagemaker.estimator.Estimator.attach(xgb_hyperparameter_tuner.best_training_job())"
   ]
  },
  {
   "cell_type": "code",
   "execution_count": 15,
   "metadata": {},
   "outputs": [
    {
     "name": "stdout",
     "output_type": "stream",
     "text": [
      ".......................\u001b[34m[2020-06-25 04:24:39 +0000] [15] [INFO] Starting gunicorn 19.10.0\u001b[0m\n",
      "\u001b[34m[2020-06-25 04:24:39 +0000] [15] [INFO] Listening at: unix:/tmp/gunicorn.sock (15)\u001b[0m\n",
      "\u001b[34m[2020-06-25 04:24:39 +0000] [15] [INFO] Using worker: gevent\u001b[0m\n",
      "\u001b[34m[2020-06-25 04:24:39 +0000] [22] [INFO] Booting worker with pid: 22\u001b[0m\n",
      "\u001b[34m[2020-06-25 04:24:39 +0000] [23] [INFO] Booting worker with pid: 23\u001b[0m\n",
      "\u001b[34m[2020-06-25 04:24:39 +0000] [24] [INFO] Booting worker with pid: 24\u001b[0m\n",
      "\u001b[34m[2020-06-25 04:24:39 +0000] [31] [INFO] Booting worker with pid: 31\u001b[0m\n",
      "\n",
      "\u001b[34m[2020-06-25:04:25:18:INFO] No GPUs detected (normal if no gpus installed)\u001b[0m\n",
      "\u001b[34m169.254.255.130 - - [25/Jun/2020:04:25:18 +0000] \"GET /ping HTTP/1.1\" 200 0 \"-\" \"Go-http-client/1.1\"\u001b[0m\n",
      "\u001b[34m169.254.255.130 - - [25/Jun/2020:04:25:18 +0000] \"GET /execution-parameters HTTP/1.1\" 200 84 \"-\" \"Go-http-client/1.1\"\u001b[0m\n",
      "\u001b[34m[2020-06-25:04:25:18:INFO] Determined delimiter of CSV input is ','\u001b[0m\n",
      "\u001b[34m169.254.255.130 - - [25/Jun/2020:04:25:18 +0000] \"POST /invocations HTTP/1.1\" 200 2666 \"-\" \"Go-http-client/1.1\"\u001b[0m\n",
      "\u001b[35m[2020-06-25:04:25:18:INFO] No GPUs detected (normal if no gpus installed)\u001b[0m\n",
      "\u001b[35m169.254.255.130 - - [25/Jun/2020:04:25:18 +0000] \"GET /ping HTTP/1.1\" 200 0 \"-\" \"Go-http-client/1.1\"\u001b[0m\n",
      "\u001b[35m169.254.255.130 - - [25/Jun/2020:04:25:18 +0000] \"GET /execution-parameters HTTP/1.1\" 200 84 \"-\" \"Go-http-client/1.1\"\u001b[0m\n",
      "\u001b[35m[2020-06-25:04:25:18:INFO] Determined delimiter of CSV input is ','\u001b[0m\n",
      "\u001b[35m169.254.255.130 - - [25/Jun/2020:04:25:18 +0000] \"POST /invocations HTTP/1.1\" 200 2666 \"-\" \"Go-http-client/1.1\"\u001b[0m\n",
      "\u001b[32m2020-06-25T04:25:18.669:[sagemaker logs]: MaxConcurrentTransforms=4, MaxPayloadInMB=6, BatchStrategy=MULTI_RECORD\u001b[0m\n"
     ]
    }
   ],
   "source": [
    "xgb_transformer = xgb_attached.transformer(instance_count = 1, instance_type = 'ml.m4.xlarge')\n",
    "xgb_transformer.transform(test_location, content_type='text/csv', split_type='Line')\n",
    "xgb_transformer.wait()"
   ]
  },
  {
   "cell_type": "code",
   "execution_count": 16,
   "metadata": {},
   "outputs": [
    {
     "name": "stdout",
     "output_type": "stream",
     "text": [
      "Completed 2.6 KiB/2.6 KiB (8.6 KiB/s) with 1 file(s) remaining\r",
      "download: s3://sagemaker-us-east-1-367550062365/sagemaker-xgboost-200625-0403-003-015d6-2020-06-25-04-21-00-468/test.csv.out to data/heart_data/test.csv.out\r\n"
     ]
    }
   ],
   "source": [
    "!aws s3 cp --recursive $xgb_transformer.output_path $data_dir"
   ]
  },
  {
   "cell_type": "code",
   "execution_count": 17,
   "metadata": {},
   "outputs": [],
   "source": [
    "predictions = pd.read_csv(os.path.join(data_dir, 'test.csv.out'), header=None)\n",
    "predictions = [round(num) for num in predictions.squeeze().values]"
   ]
  },
  {
   "cell_type": "code",
   "execution_count": 18,
   "metadata": {},
   "outputs": [
    {
     "name": "stdout",
     "output_type": "stream",
     "text": [
      "[[46 18]\n",
      " [23 51]]\n",
      "              precision    recall  f1-score   support\n",
      "\n",
      "           0       0.67      0.72      0.69        64\n",
      "           1       0.74      0.69      0.71        74\n",
      "\n",
      "   micro avg       0.70      0.70      0.70       138\n",
      "   macro avg       0.70      0.70      0.70       138\n",
      "weighted avg       0.71      0.70      0.70       138\n",
      "\n"
     ]
    }
   ],
   "source": [
    "print(confusion_matrix(labels_test, predictions))\n",
    "print(classification_report(labels_test, predictions))"
   ]
  }
 ],
 "metadata": {
  "kernelspec": {
   "display_name": "conda_python3",
   "language": "python",
   "name": "conda_python3"
  },
  "language_info": {
   "codemirror_mode": {
    "name": "ipython",
    "version": 3
   },
   "file_extension": ".py",
   "mimetype": "text/x-python",
   "name": "python",
   "nbconvert_exporter": "python",
   "pygments_lexer": "ipython3",
   "version": "3.6.5"
  }
 },
 "nbformat": 4,
 "nbformat_minor": 4
}
